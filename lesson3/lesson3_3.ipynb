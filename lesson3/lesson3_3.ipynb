{
 "cells": [
  {
   "cell_type": "code",
   "execution_count": 2,
   "id": "5cf4ee35",
   "metadata": {},
   "outputs": [
    {
     "name": "stdout",
     "output_type": "stream",
     "text": [
      "梯形面積 15.0\n"
     ]
    }
   ],
   "source": [
    "# 梯形上底(公分):5\n",
    "# 梯形下底(公分):10\n",
    "# 梯形高(公分):2\n",
    "\n",
    "top = 5\n",
    "bottom = 10\n",
    "height = 2\n",
    "\n",
    "area = (top + bottom) * height / 2\n",
    "print(\"梯形面積\",area)"
   ]
  }
 ],
 "metadata": {
  "kernelspec": {
   "display_name": "base",
   "language": "python",
   "name": "python3"
  },
  "language_info": {
   "codemirror_mode": {
    "name": "ipython",
    "version": 3
   },
   "file_extension": ".py",
   "mimetype": "text/x-python",
   "name": "python",
   "nbconvert_exporter": "python",
   "pygments_lexer": "ipython3",
   "version": "3.13.2"
  }
 },
 "nbformat": 4,
 "nbformat_minor": 5
}
