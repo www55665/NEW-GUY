{
 "cells": [
  {
   "cell_type": "code",
   "execution_count": 8,
   "id": "5cf4ee35",
   "metadata": {},
   "outputs": [
    {
     "name": "stdout",
     "output_type": "stream",
     "text": [
      "梯形面積 11.5\n"
     ]
    }
   ],
   "source": [
    "# 梯形上底(公分):5\n",
    "# 梯形下底(公分):10\n",
    "# 梯形高(公分):2\n",
    "\n",
    "top = 1.5\n",
    "bottom = 10\n",
    "height = 2\n",
    "\n",
    "area = (top + bottom) * height / 2\n",
    "print(\"梯形面積\",round(area,ndigits=2))"
   ]
  },
  {
   "cell_type": "code",
   "execution_count": 9,
   "id": "0cd8cb32",
   "metadata": {},
   "outputs": [
    {
     "data": {
      "text/plain": [
       "12.35"
      ]
     },
     "execution_count": 9,
     "metadata": {},
     "output_type": "execute_result"
    }
   ],
   "source": [
    "round(12.345,ndigits=2)"
   ]
  },
  {
   "cell_type": "code",
   "execution_count": 12,
   "id": "b012a42a",
   "metadata": {},
   "outputs": [
    {
     "data": {
      "text/plain": [
       "30.0"
      ]
     },
     "execution_count": 12,
     "metadata": {},
     "output_type": "execute_result"
    }
   ],
   "source": [
    "value = (input(\"請輸入一個數值:\"))\n",
    "type(value)\n",
    "value_float = float(value)\n",
    "value_float"
   ]
  },
  {
   "cell_type": "code",
   "execution_count": 18,
   "id": "2e5eee84",
   "metadata": {},
   "outputs": [
    {
     "name": "stdout",
     "output_type": "stream",
     "text": [
      "梯形面積 15.0\n"
     ]
    }
   ],
   "source": [
    "# 梯形上底(公分):5\n",
    "# 梯形下底(公分):10\n",
    "# 梯形高(公分):2\n",
    "\n",
    "top = int(input(\"梯形上底長度:\"))\n",
    "bottom = int(input(\"梯形下底長度:\"))\n",
    "height = int(input(\"梯形高度:\"))\n",
    "\n",
    "area = (top + bottom) * height / 2\n",
    "print(\"梯形面積\",round(area,ndigits=2))"
   ]
  }
 ],
 "metadata": {
  "kernelspec": {
   "display_name": "base",
   "language": "python",
   "name": "python3"
  },
  "language_info": {
   "codemirror_mode": {
    "name": "ipython",
    "version": 3
   },
   "file_extension": ".py",
   "mimetype": "text/x-python",
   "name": "python",
   "nbconvert_exporter": "python",
   "pygments_lexer": "ipython3",
   "version": "3.13.2"
  }
 },
 "nbformat": 4,
 "nbformat_minor": 5
}
