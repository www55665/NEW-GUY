{
 "cells": [
  {
   "cell_type": "code",
   "execution_count": 1,
   "id": "cfa8383d",
   "metadata": {},
   "outputs": [
    {
     "name": "stdout",
     "output_type": "stream",
     "text": [
      "0\n",
      "78\n",
      "=======\n",
      "1\n",
      "80\n",
      "=======\n",
      "2\n",
      "92\n",
      "=======\n",
      "3\n",
      "75\n",
      "=======\n",
      "4\n",
      "85\n",
      "=======\n"
     ]
    }
   ],
   "source": [
    "scores1 = [78, 80, 92, 75, 85]\n",
    "for i, score in enumerate(scores1):\n",
    "    print(i)\n",
    "    print(score)\n",
    "    print(\"=======\")"
   ]
  }
 ],
 "metadata": {
  "kernelspec": {
   "display_name": "NEW_GUY",
   "language": "python",
   "name": "python3"
  },
  "language_info": {
   "codemirror_mode": {
    "name": "ipython",
    "version": 3
   },
   "file_extension": ".py",
   "mimetype": "text/x-python",
   "name": "python",
   "nbconvert_exporter": "python",
   "pygments_lexer": "ipython3",
   "version": "3.12.11"
  }
 },
 "nbformat": 4,
 "nbformat_minor": 5
}
