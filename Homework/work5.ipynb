{
 "cells": [
  {
   "cell_type": "code",
   "execution_count": null,
   "id": "94880f27",
   "metadata": {},
   "outputs": [],
   "source": [
    "with open(\"names.txt\",encoding=\"utf-8\") as file:\n",
    "    content:str = file.read()\n",
    "    names:list = content.split(\"\\n\")\n",
    "\n",
    "for name in names:\n",
    "    print(name)"
   ]
  },
  {
   "cell_type": "code",
   "execution_count": 13,
   "id": "1d36f21a",
   "metadata": {},
   "outputs": [
    {
     "name": "stdout",
     "output_type": "stream",
     "text": [
      "['趙家豪', 83, 63, 70]\n",
      "['沈心利', 67, 97, 73]\n",
      "['張凡成', 60, 51, 85]\n"
     ]
    }
   ],
   "source": [
    "#有一個names.txt\n",
    "#讀取names.txt\n",
    "#請隨機取出3個名字\n",
    "#每個姓名有3個分數,分數是(50~100)的隨機數\n",
    "#建立2維的list,結構如下\n",
    "#[['陳怡伶',67,92,97],\n",
    "#['馮芳如',98,86,75],\n",
    "#['蒙淑惠',76,65,59]]\n",
    "#顯示輸出結果\n",
    "selected_names = random.sample(names, 3)  # 隨機選取3個名字\n",
    "scores = [[name] + random.sample(range(50, 101), 3) for name in selected_names]  # 每個名字配3個隨機分數(50~100)\n",
    "\n",
    "for entry in scores:\n",
    "    print(entry)  # 顯示每個人的名字與分數\n"
   ]
  },
  {
   "cell_type": "code",
   "execution_count": 16,
   "id": "54aee9ed",
   "metadata": {},
   "outputs": [
    {
     "name": "stdout",
     "output_type": "stream",
     "text": [
      "['楊韻如', 67, 50, 59]\n",
      "['尚偉倫', 69, 84, 97]\n",
      "['劉萬季', 63, 76, 82]\n"
     ]
    }
   ],
   "source": [
    "#有一個names.txt\n",
    "#讀取names.txt\n",
    "#請隨機取出3個名字\n",
    "#每個姓名有3個分數,分數是(50~100)的隨機數\n",
    "#建立2維的list,結構如下\n",
    "#[['陳怡伶',67,92,97],\n",
    "#['馮芳如',98,86,75],\n",
    "#['蒙淑惠',76,65,59]]\n",
    "#顯示輸出結果\n",
    "import random  # 匯入 random 模組，用於隨機抽取姓名與分數\n",
    "\n",
    "with open(\"names.txt\",encoding=\"utf-8\") as file:  # 以 utf-8 編碼開啟 names.txt 檔案\n",
    "    content:str = file.read()  # 讀取檔案內容到 content 變數\n",
    "    names:list = content.split(\"\\n\")  # 以換行符號分割，得到名字的 list\n",
    "\n",
    "selected_names = random.sample(names, 3)  # 隨機選取3個名字\n",
    "scores = [[name] + random.sample(range(50, 101), 3) for name in selected_names]  # 每個名字配3個隨機分數(50~100)\n",
    "\n",
    "for entry in scores:  # 逐一處理每個人的資料\n",
    "    print(entry)  # 顯示每個人的名字與分數"
   ]
  }
 ],
 "metadata": {
  "kernelspec": {
   "display_name": "base",
   "language": "python",
   "name": "python3"
  },
  "language_info": {
   "codemirror_mode": {
    "name": "ipython",
    "version": 3
   },
   "file_extension": ".py",
   "mimetype": "text/x-python",
   "name": "python",
   "nbconvert_exporter": "python",
   "pygments_lexer": "ipython3",
   "version": "3.13.2"
  }
 },
 "nbformat": 4,
 "nbformat_minor": 5
}
