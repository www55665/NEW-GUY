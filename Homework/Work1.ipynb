{
 "cells": [
  {
   "cell_type": "code",
   "execution_count": null,
   "id": "1448f489",
   "metadata": {},
   "outputs": [],
   "source": [
    "try:\n",
    "    height = int(input(\"請輸入身高(120~250公分)\"))\n",
    "    Weight = int(input(\"請輸入體重(30~200公斤)\"))\n",
    "    if height > 250:\n",
    "        print(\"\")\n",
    "    else:\n",
    "\n",
    "    if weight > 200:\n",
    "print(\"計算機結束\")"
   ]
  },
  {
   "cell_type": "code",
   "execution_count": 75,
   "id": "269ce2aa",
   "metadata": {},
   "outputs": [
    {
     "name": "stdout",
     "output_type": "stream",
     "text": [
      "輸入格式錯誤 invalid literal for int() with base 10: 'a'\n",
      "程式結束\n"
     ]
    }
   ],
   "source": [
    "try:\n",
    "    height = int(input(\"請輸入身高(120~250公分)\"))\n",
    "    if height >=120 and height <= 250:\n",
    "        print(\"身高\",height)\n",
    "    else:\n",
    "        raise Exception(\"身高只能在120~250公分之間\")\n",
    "        \n",
    "\n",
    "    weight = int(input(\"請輸入體重(30~200公斤)\"))\n",
    "    if weight >=30 and weight <= 200:\n",
    "        print(\"體重:\",weight)\n",
    "    else:\n",
    "        raise Exception(\"體重只能在30~200公斤之間\")\n",
    "    \n",
    "    BMI = weight / ((height/100) * (height/100))\n",
    "    print(\"您的BMI是:\",round(BMI,ndigits=1))\n",
    "\n",
    "except ValueError as e:\n",
    "    print(\"輸入格式錯誤\",e)\n",
    "except Exception as e:\n",
    "    print(e)\n",
    "\n",
    "finally:\n",
    "    print(\"程式結束\")"
   ]
  },
  {
   "cell_type": "code",
   "execution_count": 5,
   "id": "768869b0",
   "metadata": {},
   "outputs": [
    {
     "name": "stdout",
     "output_type": "stream",
     "text": [
      "身高: 150 公分\n",
      "體重低於30公斤\n",
      "程式結束\n"
     ]
    }
   ],
   "source": [
    "try:\n",
    "    height = int(input(\"請輸入身高(120~250公分)\"))\n",
    "    if 120<= height <= 250:\n",
    "        print(\"身高:\",height,\"公分\")\n",
    "    else:\n",
    "        if height < 120:\n",
    "            raise Exception(\"身高低於120公分\")\n",
    "\n",
    "        else:\n",
    "            raise Exception(\"身高高於250公分\")\n",
    "        \n",
    "\n",
    "    weight = int(input(\"請輸入體重(30~200公斤)\"))\n",
    "    if 30 <= weight <= 200:\n",
    "        print(\"體重:\",weight,\"公斤\")\n",
    "    else:\n",
    "        if weight < 30:\n",
    "            raise Exception(\"體重低於30公斤\")\n",
    "\n",
    "        else:\n",
    "            raise Exception(\"體重高於200公斤\")\n",
    "    \n",
    "    BMI = weight / ((height/100) * (height/100))\n",
    "    print(\"您的BMI是:\",round(BMI,ndigits=1))\n",
    "\n",
    "    if BMI >=35:\n",
    "        state=(\"過度肥胖\")\n",
    "    elif BMI >=30:\n",
    "        state=(\"中度肥胖\")\n",
    "    elif BMI >=27:\n",
    "        state=(\"輕度肥胖\")\n",
    "    elif BMI >=24:\n",
    "        state=(\"過重\")\n",
    "    elif BMI >=18.5:\n",
    "        state=(\"正常\")\n",
    "    else:\n",
    "        state=(\"過輕\")\n",
    "    print(\"BMI狀態為:\",state)\n",
    "\n",
    "except ValueError as e:\n",
    "    print(\"輸入格式錯誤\",e)\n",
    "except Exception as e:\n",
    "    print(e)\n",
    "\n",
    "finally:\n",
    "    print(\"程式結束\")"
   ]
  }
 ],
 "metadata": {
  "kernelspec": {
   "display_name": "base",
   "language": "python",
   "name": "python3"
  },
  "language_info": {
   "codemirror_mode": {
    "name": "ipython",
    "version": 3
   },
   "file_extension": ".py",
   "mimetype": "text/x-python",
   "name": "python",
   "nbconvert_exporter": "python",
   "pygments_lexer": "ipython3",
   "version": "3.13.2"
  }
 },
 "nbformat": 4,
 "nbformat_minor": 5
}
