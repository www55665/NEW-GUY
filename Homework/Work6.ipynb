{
 "cells": [
  {
   "cell_type": "code",
   "execution_count": 9,
   "id": "31081646",
   "metadata": {},
   "outputs": [
    {
     "name": "stdout",
     "output_type": "stream",
     "text": [
      "[{'姓名': '楊建安', '國文': 83, '英文': 74, '數學': 92}, {'姓名': '羅幸娥', '國文': 68, '英文': 76, '數學': 96}, {'姓名': '方筠紹', '國文': 50, '英文': 66, '數學': 71}]\n"
     ]
    }
   ],
   "source": [
    "#有一個names.txt\n",
    "#讀取names.txt\n",
    "#請隨機取出3個名字\n",
    "import random\n",
    "from pprint import pprint\n",
    "\n",
    "\n",
    "random.seed(4561)\n",
    "\n",
    "def sample_names_from_file(file_name: str, nums: int = 1) -> list[str]:\n",
    "    \"\"\"\n",
    "    從指定的檔案中讀取所有姓名，並隨機取出指定數量的姓名。\n",
    "\n",
    "    參數:\n",
    "        file_name (str): 檔案名稱，檔案內容為姓名，每行一個。\n",
    "        nums (int): 要隨機取出的姓名數量，預設為1。\n",
    "\n",
    "    回傳:\n",
    "        list[str]: 隨機取出的姓名列表。\n",
    "    \"\"\"\n",
    "    with open(file_name, encoding=\"utf-8\") as file:\n",
    "        content: str = file.read()\n",
    "        names: list[str] = content.split()\n",
    "        return random.sample(names, nums)\n",
    "\n",
    "def generate_scores_for_names(names: list[str]) -> list[dict]:\n",
    "    \"\"\"\n",
    "    為每個姓名生成3個隨機分數。\n",
    "\n",
    "    參數:\n",
    "        names (list[str]): 姓名列表。\n",
    "\n",
    "    回傳:\n",
    "        list[dict]: 包含姓名和3個隨機分數的2維列表。\n",
    "    \"\"\"\n",
    "    result_list = []\n",
    "    for person_name in names:\n",
    "        student_scores:dict = {\"姓名\":person_name}\n",
    "        for subject in [\"國文\", \"英文\", \"數學\"]:\n",
    "            student_scores[subject] = random.randint(50, 100) \n",
    "        result_list.append(student_scores)\n",
    "\n",
    "    return result_list\n",
    "\n",
    "def main():\n",
    "    names: list[str] = sample_names_from_file(\"names.txt\", nums=3)\n",
    "    students: list[dict] = generate_scores_for_names(names)\n",
    "    print(students)\n",
    "\n",
    "if __name__ == \"__main__\":\n",
    "    main()"
   ]
  },
  {
   "cell_type": "code",
   "execution_count": 16,
   "id": "2b1eb671",
   "metadata": {},
   "outputs": [
    {
     "name": "stdout",
     "output_type": "stream",
     "text": [
      "[{'國文': 83, '姓名': '楊建安', '數學': 92, '英文': 74},\n",
      " {'國文': 68, '姓名': '羅幸娥', '數學': 96, '英文': 76},\n",
      " {'國文': 50, '姓名': '方筠紹', '數學': 71, '英文': 66}]\n"
     ]
    }
   ],
   "source": [
    "import random\n",
    "from pprint import pprint\n",
    "\n",
    "random.seed(4561)\n",
    "\n",
    "def sample_names_from_file(file_name, nums=1):\n",
    "    with open(file_name, encoding=\"utf-8\") as file:\n",
    "        content = file.read()\n",
    "        names = content.split()\n",
    "        return random.sample(names, nums)\n",
    "\n",
    "def generate_scores_for_names(names):\n",
    "    result_list = []\n",
    "    for person_name in names:\n",
    "        student_scores = {\"姓名\": person_name}\n",
    "        for subject in [\"國文\", \"英文\", \"數學\"]:\n",
    "            student_scores[subject] = random.randint(50, 100)\n",
    "        result_list.append(student_scores)\n",
    "    return result_list\n",
    "\n",
    "def main():\n",
    "    names = sample_names_from_file(\"names.txt\", nums=3)\n",
    "    students = generate_scores_for_names(names)\n",
    "    pprint(students)\n",
    "\n",
    "if __name__ == \"__main__\":\n",
    "    main()"
   ]
  },
  {
   "cell_type": "code",
   "execution_count": 5,
   "id": "8929b5f2",
   "metadata": {},
   "outputs": [
    {
     "name": "stdout",
     "output_type": "stream",
     "text": [
      "== 學生成績管理系統 ===\n",
      "[{'姓名': '楊建安', '國文': 83, '英文': 74, '數學': 92, '平均': 83.0}, {'姓名': '羅幸娥', '國文': 68, '英文': 76, '數學': 96, '平均': 80.0}, {'姓名': '方筠紹', '國文': 50, '英文': 66, '數學': 71, '平均': 62.33}]\n"
     ]
    }
   ],
   "source": [
    "import random\n",
    "\n",
    "\n",
    "random.seed(4561)\n",
    "\n",
    "def sample_names_from_file(file_name, nums=1):\n",
    "    with open(file_name, encoding=\"utf-8\") as file:\n",
    "        content = file.read()\n",
    "        names = content.split()\n",
    "        return random.sample(names, nums)\n",
    "\n",
    "def generate_scores_for_names(names):\n",
    "    result_list = []\n",
    "    for person_name in names:\n",
    "        student_scores = {\"姓名\": person_name}\n",
    "        total = 0\n",
    "        subjects = [\"國文\", \"英文\", \"數學\"]\n",
    "        for subject in subjects:\n",
    "            score = random.randint(50, 100)\n",
    "            student_scores[subject] = score\n",
    "            total += score\n",
    "        average = round(total / len(subjects), 2)  # 計算平均成績並保留小數點後兩位\n",
    "        student_scores[\"平均\"] = average\n",
    "        result_list.append(student_scores)\n",
    "    return result_list\n",
    "\n",
    "def main():\n",
    "    names = sample_names_from_file(\"names.txt\", nums=3)\n",
    "    students = generate_scores_for_names(names)\n",
    "    print(\"== 學生成績管理系統 ===\")\n",
    "    print(students)\n",
    "\n",
    "if __name__ == \"__main__\":\n",
    "    main()"
   ]
  },
  {
   "cell_type": "code",
   "execution_count": 9,
   "id": "32d2fe7c",
   "metadata": {},
   "outputs": [
    {
     "name": "stdout",
     "output_type": "stream",
     "text": [
      "'== 學生成績管理系統 ==='\n",
      "[{'國文': 83, '姓名': '楊建安', '平均': 83.0, '數學': 92, '英文': 74},\n",
      " {'國文': 68, '姓名': '羅幸娥', '平均': 80.0, '數學': 96, '英文': 76},\n",
      " {'國文': 50, '姓名': '方筠紹', '平均': 62.33, '數學': 71, '英文': 66}]\n"
     ]
    }
   ],
   "source": [
    "import random\n",
    "\n",
    "\n",
    "random.seed(4561)\n",
    "\n",
    "def sample_names_from_file(file_name, nums=1):\n",
    "    with open(file_name, encoding=\"utf-8\") as file:\n",
    "        content = file.read()\n",
    "        names = content.split()\n",
    "        return random.sample(names, nums)\n",
    "\n",
    "def generate_scores_for_names(names):\n",
    "    result_list = []\n",
    "    for person_name in names:\n",
    "        student_scores = {\"姓名\": person_name}\n",
    "        total = 0\n",
    "        subjects = [\"國文\", \"英文\", \"數學\"]\n",
    "        for subject in subjects:\n",
    "            score = random.randint(50, 100)\n",
    "            student_scores[subject] = score\n",
    "            total += score\n",
    "        average = round(total / len(subjects), 2)\n",
    "        student_scores[\"平均\"] = average\n",
    "        result_list.append(student_scores)\n",
    "    return result_list\n",
    "\n",
    "def main():\n",
    "    names = sample_names_from_file(\"names.txt\", nums=3)\n",
    "    students = generate_scores_for_names(names)\n",
    "    pprint(\"== 學生成績管理系統 ===\")\n",
    "    pprint(students)\n",
    "\n",
    "if __name__ == \"__main__\":\n",
    "    main()"
   ]
  }
 ],
 "metadata": {
  "kernelspec": {
   "display_name": "base",
   "language": "python",
   "name": "python3"
  },
  "language_info": {
   "codemirror_mode": {
    "name": "ipython",
    "version": 3
   },
   "file_extension": ".py",
   "mimetype": "text/x-python",
   "name": "python",
   "nbconvert_exporter": "python",
   "pygments_lexer": "ipython3",
   "version": "3.13.2"
  }
 },
 "nbformat": 4,
 "nbformat_minor": 5
}
