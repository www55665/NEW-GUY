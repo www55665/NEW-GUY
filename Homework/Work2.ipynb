{
 "cells": [
  {
   "cell_type": "code",
   "execution_count": 1,
   "id": "f726e143",
   "metadata": {},
   "outputs": [
    {
     "name": "stdout",
     "output_type": "stream",
     "text": [
      "100 的因數有: 1 2 4 5 10 20 25 50 100 "
     ]
    }
   ],
   "source": [
    "a = int(input(\"請輸入想查找因數的數字\"))\n",
    "print(a,\"的因數有:\",end=\" \")\n",
    "b = (a + 1)\n",
    "for x in range (1,b):\n",
    "    if (a % x) == 0:\n",
    "        print(x,end=\" \")\n",
    "        \n",
    "        "
   ]
  },
  {
   "cell_type": "code",
   "execution_count": 15,
   "id": "6e85a0e4",
   "metadata": {},
   "outputs": [
    {
     "name": "stdout",
     "output_type": "stream",
     "text": [
      "10 跟 15 的公因數有: 1 5 "
     ]
    }
   ],
   "source": [
    "a = int(input(\"請輸入想查找因數的第一組數字\"))\n",
    "c = int(input(\"請輸入想查找因數的第二組數字\"))\n",
    "b = (a + 1)\n",
    "d = (c + 1)\n",
    "print(a,\"跟\",c,\"的公因數有:\",end=\" \")\n",
    "for x in range (1,b):\n",
    "    if (a % x ) == 0:\n",
    "        for y in range (1,d):\n",
    "            if (c % y) == 0:\n",
    "                if x == y:\n",
    "                    print(y,end=\" \")"
   ]
  },
  {
   "cell_type": "code",
   "execution_count": 3,
   "id": "26ceddf4",
   "metadata": {},
   "outputs": [
    {
     "name": "stdout",
     "output_type": "stream",
     "text": [
      "15 及 10 的公因數：\n",
      "1\n",
      "5\n"
     ]
    }
   ],
   "source": [
    "value1 = int(input(\"請輸入第一個整數：\"))\n",
    "value2 = int(input(\"請輸入第二個整數：\"))\n",
    "print(f\"{value1} 及 {value2} 的公因數：\")\n",
    "\n",
    "factor = 1\n",
    "while (factor <= value1 and factor <= value2):\n",
    "    if value1 % factor == 0 and value2 % factor == 0:\n",
    "        print(factor)\n",
    "    factor += 1"
   ]
  }
 ],
 "metadata": {
  "kernelspec": {
   "display_name": "base",
   "language": "python",
   "name": "python3"
  },
  "language_info": {
   "codemirror_mode": {
    "name": "ipython",
    "version": 3
   },
   "file_extension": ".py",
   "mimetype": "text/x-python",
   "name": "python",
   "nbconvert_exporter": "python",
   "pygments_lexer": "ipython3",
   "version": "3.13.2"
  }
 },
 "nbformat": 4,
 "nbformat_minor": 5
}
