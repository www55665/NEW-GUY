{
 "cells": [
  {
   "cell_type": "code",
   "execution_count": null,
   "id": "aab2c5f0",
   "metadata": {},
   "outputs": [],
   "source": [
    "#如果參數有*參數名稱\n",
    "#呼叫時,沒有限定數量的引數值呼叫\n",
    "\n",
    "def fun1(*args):\n",
    "    print(args) #args是一個tuple\n",
    "\n",
    "fun1(1, 2.5, '3.9', 'hello', True)"
   ]
  },
  {
   "cell_type": "code",
   "execution_count": null,
   "id": "ccbc3236",
   "metadata": {},
   "outputs": [
    {
     "data": {
      "text/plain": [
       "('a', 'b', 'c', 'd', 'e')"
      ]
     },
     "execution_count": 3,
     "metadata": {},
     "output_type": "execute_result"
    }
   ],
   "source": [
    "#建立自訂的tuple\n",
    "#不同的寫法,一樣的效果\n",
    "('a', 'b', 'c', 'd', 'e') #使用()符號建立tuple\n",
    "'a', 'b', 'c', 'd', 'e' #可以省略(),直接使用逗號分隔"
   ]
  },
  {
   "cell_type": "code",
   "execution_count": 4,
   "id": "92dbe28d",
   "metadata": {},
   "outputs": [
    {
     "name": "stdout",
     "output_type": "stream",
     "text": [
      "{'one': 1, 'two': 2, 'three': 3}\n"
     ]
    }
   ],
   "source": [
    "def fun2(**kwargs): ## **參數名稱,沒有限定數量的引數名稱呼叫\n",
    "    print(kwargs) ## kwargs是dictionary(dict)\n",
    "\n",
    "\n",
    "fun2(one=1,two=2,three=3) "
   ]
  }
 ],
 "metadata": {
  "kernelspec": {
   "display_name": "base",
   "language": "python",
   "name": "python3"
  },
  "language_info": {
   "codemirror_mode": {
    "name": "ipython",
    "version": 3
   },
   "file_extension": ".py",
   "mimetype": "text/x-python",
   "name": "python",
   "nbconvert_exporter": "python",
   "pygments_lexer": "ipython3",
   "version": "3.13.2"
  }
 },
 "nbformat": 4,
 "nbformat_minor": 5
}
