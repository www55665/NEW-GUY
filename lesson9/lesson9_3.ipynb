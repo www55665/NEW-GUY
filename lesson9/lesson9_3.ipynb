{
 "cells": [
  {
   "cell_type": "code",
   "execution_count": null,
   "id": "25343fdc",
   "metadata": {},
   "outputs": [],
   "source": [
    "#box的使用範例\n",
    "import box\n",
    "\n",
    "def main():\n",
    "    try:\n",
    "        play_count = 0\n",
    "        while(True):\n",
    "            play_count += 1\n",
    "            box.play_game()\n",
    "            is_continue = input(\"您還要繼續嗎(y,n)?\")\n",
    "            if is_continue == \"n\":\n",
    "                break\n",
    "            \n",
    "        print(f\"{box.user_name}共玩了{play_count}次\")\n",
    "        print(\"遊戲結束\")\n",
    "    except ValueError:\n",
    "        print(\"格式錯誤\")\n",
    "        print(\"應用程式中斷\")        \n",
    "    except Exception as e:\n",
    "        print(e)\n",
    "        print(\"應用程式中斷\")\n",
    "    \n",
    "\n",
    "\n",
    "if __name__ == \"__main__\":\n",
    "    main()"
   ]
  }
 ],
 "metadata": {
  "language_info": {
   "name": "python"
  }
 },
 "nbformat": 4,
 "nbformat_minor": 5
}
