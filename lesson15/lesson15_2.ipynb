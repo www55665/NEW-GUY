{
 "cells": [
  {
   "cell_type": "code",
   "execution_count": 3,
   "id": "5a9f6d83",
   "metadata": {},
   "outputs": [
    {
     "data": {
      "text/plain": [
       "array([ 0, 10, 20, 30, 40, 50, 60, 70, 80, 90])"
      ]
     },
     "execution_count": 3,
     "metadata": {},
     "output_type": "execute_result"
    }
   ],
   "source": [
    "import numpy as np\n",
    "arr = np.arange(10)*10\n",
    "arr"
   ]
  },
  {
   "cell_type": "code",
   "execution_count": null,
   "id": "682e3516",
   "metadata": {},
   "outputs": [
    {
     "data": {
      "text/plain": [
       "array([50, 60, 70, 80, 90])"
      ]
     },
     "execution_count": 5,
     "metadata": {},
     "output_type": "execute_result"
    }
   ],
   "source": [
    "#索引\n",
    "arr[1]\n",
    "\n",
    "#slice\n",
    "arr[:5] #挑選前5個\n",
    "arr[-5:] #挑選最後5個"
   ]
  },
  {
   "cell_type": "code",
   "execution_count": 6,
   "id": "d2bd1789",
   "metadata": {},
   "outputs": [
    {
     "data": {
      "text/plain": [
       "array([[ 65,  81,  94,  93,  77],\n",
       "       [ 74,  77,  95,  51,  98],\n",
       "       [ 59,  59,  82,  66,  82],\n",
       "       [ 94,  84,  79,  95,  90],\n",
       "       [ 54,  57,  74,  68,  75],\n",
       "       [ 69,  95,  83,  56,  74],\n",
       "       [ 59,  87,  76,  83,  71],\n",
       "       [ 68,  92,  77,  69,  96],\n",
       "       [ 80,  69,  96,  81,  50],\n",
       "       [ 59,  50,  59,  96,  59],\n",
       "       [ 58,  63,  85,  85,  72],\n",
       "       [ 68,  54,  85,  77,  88],\n",
       "       [ 96,  84,  58,  67,  91],\n",
       "       [ 71,  72,  57,  93,  67],\n",
       "       [ 78,  66,  51,  64,  91],\n",
       "       [ 58,  55,  51,  55,  67],\n",
       "       [ 52,  80,  84,  99,  82],\n",
       "       [ 95,  91,  97,  79,  70],\n",
       "       [ 55,  87,  55,  57,  93],\n",
       "       [ 86,  68,  98,  74,  87],\n",
       "       [ 88,  57,  63,  96,  70],\n",
       "       [ 94,  65,  77,  90,  89],\n",
       "       [ 80,  62,  57,  68,  74],\n",
       "       [ 52,  77, 100,  53,  70],\n",
       "       [ 53,  60,  71,  88,  75],\n",
       "       [ 51,  56,  99,  52,  85],\n",
       "       [ 78,  79,  93, 100,  99],\n",
       "       [ 88,  88,  76,  68,  81],\n",
       "       [ 53,  67,  67,  51,  50],\n",
       "       [ 55,  82,  79,  73,  79],\n",
       "       [ 65,  86, 100,  57,  77],\n",
       "       [ 57,  75,  95,  91,  90],\n",
       "       [ 71,  52,  55,  84,  96],\n",
       "       [ 50,  93,  90,  94,  70],\n",
       "       [ 69,  76,  70,  73,  95],\n",
       "       [ 63,  79,  64,  92,  95],\n",
       "       [ 62,  93,  86,  80,  70],\n",
       "       [ 70,  83,  68,  54,  59],\n",
       "       [ 78,  62,  91,  63,  79],\n",
       "       [ 70,  57,  69,  81,  86],\n",
       "       [ 66,  60,  58,  54,  79],\n",
       "       [ 90,  50,  83,  75,  99],\n",
       "       [ 56,  69,  94,  63,  99],\n",
       "       [ 74,  94,  92,  55,  76],\n",
       "       [ 65,  74,  69,  99,  87],\n",
       "       [ 67,  74,  97,  74,  89],\n",
       "       [ 67,  58,  74,  65,  81],\n",
       "       [ 77,  60,  67,  88,  66],\n",
       "       [ 91,  85,  57,  55,  59],\n",
       "       [ 93,  89,  95,  76,  70]], dtype=int32)"
      ]
     },
     "execution_count": 6,
     "metadata": {},
     "output_type": "execute_result"
    }
   ],
   "source": [
    "scores = np.random.randint(50,101, size=(50, 5))\n",
    "scores"
   ]
  },
  {
   "cell_type": "code",
   "execution_count": 8,
   "id": "720335ea",
   "metadata": {},
   "outputs": [
    {
     "data": {
      "text/plain": [
       "array([[65, 81, 94, 93, 77]], dtype=int32)"
      ]
     },
     "execution_count": 8,
     "metadata": {},
     "output_type": "execute_result"
    }
   ],
   "source": [
    "#第一位學生的分數\n",
    "#不同的寫法\n",
    "scores[0] #(5,)\n",
    "scores[0,:] #(5,)\n",
    "scores[0:1,:] #(1, 5)"
   ]
  },
  {
   "cell_type": "code",
   "execution_count": 9,
   "id": "aae7edc2",
   "metadata": {},
   "outputs": [
    {
     "data": {
      "text/plain": [
       "array([[65, 81, 94],\n",
       "       [74, 77, 95],\n",
       "       [59, 59, 82],\n",
       "       [94, 84, 79],\n",
       "       [54, 57, 74]], dtype=int32)"
      ]
     },
     "execution_count": 9,
     "metadata": {},
     "output_type": "execute_result"
    }
   ],
   "source": [
    "#前5位學生\n",
    "scores[:5]\n",
    "#前5位學生,前3個分數\n",
    "scores[:5,:3]"
   ]
  },
  {
   "cell_type": "code",
   "execution_count": 10,
   "id": "76ff584c",
   "metadata": {},
   "outputs": [
    {
     "data": {
      "text/plain": [
       "array([ 94,  95,  82,  79,  74,  83,  76,  77,  96,  59,  85,  85,  58,\n",
       "        57,  51,  51,  84,  97,  55,  98,  63,  77,  57, 100,  71,  99,\n",
       "        93,  76,  67,  79, 100,  95,  55,  90,  70,  64,  86,  68,  91,\n",
       "        69,  58,  83,  94,  92,  69,  97,  74,  67,  57,  95], dtype=int32)"
      ]
     },
     "execution_count": 10,
     "metadata": {},
     "output_type": "execute_result"
    }
   ],
   "source": [
    "#第1科分數\n",
    "scores[:,0]\n",
    "scores[:,1]\n",
    "scores[:,2]"
   ]
  },
  {
   "cell_type": "code",
   "execution_count": 11,
   "id": "6b7c58b5",
   "metadata": {},
   "outputs": [
    {
     "data": {
      "text/plain": [
       "array([410, 395, 348, 442, 328, 377, 376, 402, 376, 323, 363, 372, 396,\n",
       "       360, 350, 286, 397, 432, 347, 413, 374, 415, 341, 352, 347, 343,\n",
       "       449, 401, 288, 368, 385, 408, 358, 397, 383, 393, 391, 334, 373,\n",
       "       363, 317, 397, 381, 391, 394, 401, 345, 358, 347, 423], dtype=int32)"
      ]
     },
     "execution_count": 11,
     "metadata": {},
     "output_type": "execute_result"
    }
   ],
   "source": [
    "#ndarray可以陣列運算\n",
    "total = scores[:,0] + scores[:,1] + scores[:,2] + scores[:,3] + scores[:,4]\n",
    "total"
   ]
  },
  {
   "cell_type": "code",
   "execution_count": 12,
   "id": "c0d9d326",
   "metadata": {},
   "outputs": [
    {
     "data": {
      "text/plain": [
       "array([82. , 79. , 69.6, 88.4, 65.6, 75.4, 75.2, 80.4, 75.2, 64.6, 72.6,\n",
       "       74.4, 79.2, 72. , 70. , 57.2, 79.4, 86.4, 69.4, 82.6, 74.8, 83. ,\n",
       "       68.2, 70.4, 69.4, 68.6, 89.8, 80.2, 57.6, 73.6, 77. , 81.6, 71.6,\n",
       "       79.4, 76.6, 78.6, 78.2, 66.8, 74.6, 72.6, 63.4, 79.4, 76.2, 78.2,\n",
       "       78.8, 80.2, 69. , 71.6, 69.4, 84.6])"
      ]
     },
     "execution_count": 12,
     "metadata": {},
     "output_type": "execute_result"
    }
   ],
   "source": [
    "total / 5"
   ]
  },
  {
   "cell_type": "code",
   "execution_count": 13,
   "id": "bd8ee2d8",
   "metadata": {},
   "outputs": [
    {
     "data": {
      "text/plain": [
       "array([82. , 79. , 69.6, 88.4, 65.6, 75.4, 75.2, 80.4, 75.2, 64.6, 72.6,\n",
       "       74.4, 79.2, 72. , 70. , 57.2, 79.4, 86.4, 69.4, 82.6, 74.8, 83. ,\n",
       "       68.2, 70.4, 69.4, 68.6, 89.8, 80.2, 57.6, 73.6, 77. , 81.6, 71.6,\n",
       "       79.4, 76.6, 78.6, 78.2, 66.8, 74.6, 72.6, 63.4, 79.4, 76.2, 78.2,\n",
       "       78.8, 80.2, 69. , 71.6, 69.4, 84.6])"
      ]
     },
     "execution_count": 13,
     "metadata": {},
     "output_type": "execute_result"
    }
   ],
   "source": [
    "#np內的function\n",
    "np.sum(scores,axis=1)\n",
    "np.mean(scores,axis=1)"
   ]
  },
  {
   "cell_type": "code",
   "execution_count": 14,
   "id": "342ccdfc",
   "metadata": {},
   "outputs": [
    {
     "data": {
      "text/plain": [
       "array([82. , 79. , 69.6, 88.4, 65.6, 75.4, 75.2, 80.4, 75.2, 64.6, 72.6,\n",
       "       74.4, 79.2, 72. , 70. , 57.2, 79.4, 86.4, 69.4, 82.6, 74.8, 83. ,\n",
       "       68.2, 70.4, 69.4, 68.6, 89.8, 80.2, 57.6, 73.6, 77. , 81.6, 71.6,\n",
       "       79.4, 76.6, 78.6, 78.2, 66.8, 74.6, 72.6, 63.4, 79.4, 76.2, 78.2,\n",
       "       78.8, 80.2, 69. , 71.6, 69.4, 84.6])"
      ]
     },
     "execution_count": 14,
     "metadata": {},
     "output_type": "execute_result"
    }
   ],
   "source": [
    "#實體方法\n",
    "scores.sum(axis=1)\n",
    "scores.mean(axis=1)"
   ]
  }
 ],
 "metadata": {
  "kernelspec": {
   "display_name": "NEW_GUY",
   "language": "python",
   "name": "python3"
  },
  "language_info": {
   "codemirror_mode": {
    "name": "ipython",
    "version": 3
   },
   "file_extension": ".py",
   "mimetype": "text/x-python",
   "name": "python",
   "nbconvert_exporter": "python",
   "pygments_lexer": "ipython3",
   "version": "3.12.11"
  }
 },
 "nbformat": 4,
 "nbformat_minor": 5
}
