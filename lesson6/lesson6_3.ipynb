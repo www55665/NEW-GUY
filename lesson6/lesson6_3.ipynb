{
 "cells": [
  {
   "cell_type": "code",
   "execution_count": null,
   "id": "0dee3203",
   "metadata": {},
   "outputs": [],
   "source": [
    "total = 0\n",
    "total += 1\n",
    "total += 2\n",
    "total += 3\n",
    "total += 4\n",
    "total += 5\n",
    "total += 6\n",
    "total += 7\n",
    "total += 8\n",
    "total += 9\n",
    "total += 10\n",
    "total"
   ]
  },
  {
   "cell_type": "code",
   "execution_count": null,
   "id": "14352436",
   "metadata": {},
   "outputs": [],
   "source": [
    "for word in 'abcde':\n",
    "    print(word)"
   ]
  },
  {
   "cell_type": "code",
   "execution_count": 2,
   "id": "b26d9f37",
   "metadata": {},
   "outputs": [
    {
     "data": {
      "text/plain": [
       "range(1, 10, 2)"
      ]
     },
     "execution_count": 2,
     "metadata": {},
     "output_type": "execute_result"
    }
   ],
   "source": [
    "range(5) #0~4\n",
    "range(1,5) #1~4\n",
    "range(1,10,2) #1,3,5,7,9"
   ]
  },
  {
   "cell_type": "code",
   "execution_count": 3,
   "id": "86874554",
   "metadata": {},
   "outputs": [
    {
     "name": "stdout",
     "output_type": "stream",
     "text": [
      "5050\n"
     ]
    }
   ],
   "source": [
    "total = 0\n",
    "for i in range(1,101):\n",
    "    total += i\n",
    "print(total)"
   ]
  },
  {
   "cell_type": "code",
   "execution_count": 5,
   "id": "5225faea",
   "metadata": {},
   "outputs": [
    {
     "name": "stdout",
     "output_type": "stream",
     "text": [
      "a= 1\n",
      "b= 1 b= 2 b= 3 b= 4 b= 5 b= 6 b= 7 b= 8 b= 9 \n",
      "==============\n",
      "a= 2\n",
      "b= 1 b= 2 b= 3 b= 4 b= 5 b= 6 b= 7 b= 8 b= 9 \n",
      "==============\n",
      "a= 3\n",
      "b= 1 b= 2 b= 3 b= 4 b= 5 b= 6 b= 7 b= 8 b= 9 \n",
      "==============\n",
      "a= 4\n",
      "b= 1 b= 2 b= 3 b= 4 b= 5 b= 6 b= 7 b= 8 b= 9 \n",
      "==============\n",
      "a= 5\n",
      "b= 1 b= 2 b= 3 b= 4 b= 5 b= 6 b= 7 b= 8 b= 9 \n",
      "==============\n",
      "a= 6\n",
      "b= 1 b= 2 b= 3 b= 4 b= 5 b= 6 b= 7 b= 8 b= 9 \n",
      "==============\n",
      "a= 7\n",
      "b= 1 b= 2 b= 3 b= 4 b= 5 b= 6 b= 7 b= 8 b= 9 \n",
      "==============\n",
      "a= 8\n",
      "b= 1 b= 2 b= 3 b= 4 b= 5 b= 6 b= 7 b= 8 b= 9 \n",
      "==============\n",
      "a= 9\n",
      "b= 1 b= 2 b= 3 b= 4 b= 5 b= 6 b= 7 b= 8 b= 9 \n",
      "==============\n"
     ]
    }
   ],
   "source": [
    "for a in range(1,10):\n",
    "    print(\"a=\",a)\n",
    "    for b in range(1,10):\n",
    "        print(\"b=\",b,end=\" \")\n",
    "    print(\"\\n==============\")"
   ]
  },
  {
   "cell_type": "code",
   "execution_count": 6,
   "id": "d2c39281",
   "metadata": {},
   "outputs": [
    {
     "name": "stdout",
     "output_type": "stream",
     "text": [
      "1*1=1  1*2=2  1*3=3  1*4=4  1*5=5  1*6=6  1*7=7  1*8=8  1*9=9  \n",
      "\n",
      "2*1=2  2*2=4  2*3=6  2*4=8  2*5=10  2*6=12  2*7=14  2*8=16  2*9=18  \n",
      "\n",
      "3*1=3  3*2=6  3*3=9  3*4=12  3*5=15  3*6=18  3*7=21  3*8=24  3*9=27  \n",
      "\n",
      "4*1=4  4*2=8  4*3=12  4*4=16  4*5=20  4*6=24  4*7=28  4*8=32  4*9=36  \n",
      "\n",
      "5*1=5  5*2=10  5*3=15  5*4=20  5*5=25  5*6=30  5*7=35  5*8=40  5*9=45  \n",
      "\n",
      "6*1=6  6*2=12  6*3=18  6*4=24  6*5=30  6*6=36  6*7=42  6*8=48  6*9=54  \n",
      "\n",
      "7*1=7  7*2=14  7*3=21  7*4=28  7*5=35  7*6=42  7*7=49  7*8=56  7*9=63  \n",
      "\n",
      "8*1=8  8*2=16  8*3=24  8*4=32  8*5=40  8*6=48  8*7=56  8*8=64  8*9=72  \n",
      "\n",
      "9*1=9  9*2=18  9*3=27  9*4=36  9*5=45  9*6=54  9*7=63  9*8=72  9*9=81  \n",
      "\n"
     ]
    }
   ],
   "source": [
    "for a in range(1,10):\n",
    "    for b in range(1,10):\n",
    "        print(a,'*',b,'=',a*b,end=\"  \",sep='')\n",
    "    print(\"\\n\")"
   ]
  },
  {
   "cell_type": "code",
   "execution_count": null,
   "id": "467dafaa",
   "metadata": {},
   "outputs": [],
   "source": [
    "apple = 5\n",
    "orange = 10\n",
    "\n",
    "print(\"apple有\",apple,\"個,orange有\",orange,\"個\",sep='')"
   ]
  },
  {
   "cell_type": "code",
   "execution_count": null,
   "id": "25f0ecb8",
   "metadata": {},
   "outputs": [],
   "source": [
    "apple = 5\n",
    "orange = 10\n",
    "\n",
    "#字串插補(字串格式化),目的字串和變數整合,成為一個全新的字串\n",
    "print(f\"apple有{apple}個,orange有{orange}個\")"
   ]
  },
  {
   "cell_type": "code",
   "execution_count": null,
   "id": "05ac791e",
   "metadata": {},
   "outputs": [],
   "source": [
    "for i in range(1,10):\n",
    "    for j in range(1,10):\n",
    "        print(f\"{i:<2d}*{j:2d} ={i*j:2d}\",end='   ')\n",
    "    print(\"\\n\")"
   ]
  },
  {
   "cell_type": "code",
   "execution_count": null,
   "id": "dca5edc1",
   "metadata": {},
   "outputs": [],
   "source": [
    "#使用while迴圈要小心產生無限迴圈\n",
    "i = 10\n",
    "while(i > 0):\n",
    "    print(i)\n",
    "    i -= 1"
   ]
  }
 ],
 "metadata": {
  "kernelspec": {
   "display_name": "base",
   "language": "python",
   "name": "python3"
  },
  "language_info": {
   "codemirror_mode": {
    "name": "ipython",
    "version": 3
   },
   "file_extension": ".py",
   "mimetype": "text/x-python",
   "name": "python",
   "nbconvert_exporter": "python",
   "pygments_lexer": "ipython3",
   "version": "3.13.2"
  }
 },
 "nbformat": 4,
 "nbformat_minor": 5
}
