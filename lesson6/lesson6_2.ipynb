{
 "cells": [
  {
   "cell_type": "code",
   "execution_count": 10,
   "id": "45fdff2a",
   "metadata": {},
   "outputs": [
    {
     "name": "stdout",
     "output_type": "stream",
     "text": [
      "丁\n"
     ]
    }
   ],
   "source": [
    "score = int(input(\"請輸入學生成績\"))\n",
    "if score >= 90:\n",
    "    grade = \"優\"\n",
    "else:\n",
    "    if score >= 80:\n",
    "        grade = \"甲\"\n",
    "    else:\n",
    "        if score >= 70:\n",
    "            grade = \"乙\"\n",
    "        else:\n",
    "            if score >= 60:\n",
    "                grade = \"丙\"\n",
    "            else:\n",
    "                grade = \"丁\"\n",
    "\n",
    "print(grade)"
   ]
  },
  {
   "cell_type": "code",
   "execution_count": 11,
   "id": "e23aa888",
   "metadata": {},
   "outputs": [
    {
     "name": "stdout",
     "output_type": "stream",
     "text": [
      "乙\n"
     ]
    }
   ],
   "source": [
    "score = int(input(\"請輸入學生分數:\"))\n",
    "\n",
    "if score >= 90:\n",
    "    grade = '優'\n",
    "elif score >= 80:\n",
    "   grade = '甲'\n",
    "elif score >= 70:\n",
    "    grade = '乙'\n",
    "elif score >= 60:\n",
    "    grade = '丙'\n",
    "else:\n",
    "    grade = '丁'\n",
    "\n",
    "print(grade) "
   ]
  }
 ],
 "metadata": {
  "kernelspec": {
   "display_name": "base",
   "language": "python",
   "name": "python3"
  },
  "language_info": {
   "codemirror_mode": {
    "name": "ipython",
    "version": 3
   },
   "file_extension": ".py",
   "mimetype": "text/x-python",
   "name": "python",
   "nbconvert_exporter": "python",
   "pygments_lexer": "ipython3",
   "version": "3.13.2"
  }
 },
 "nbformat": 4,
 "nbformat_minor": 5
}
