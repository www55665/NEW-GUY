{
 "cells": [
  {
   "cell_type": "code",
   "execution_count": null,
   "id": "5ebb270b",
   "metadata": {},
   "outputs": [],
   "source": [
    "#有一個name.txt的檔案,裏面有299個名字,每行一個名字\n",
    "#請寫一個程式,讀取這個檔案,並且將讀出每一個名字\n",
    "#並且將讀出的名字存入一個list中,然後印出這個list\n",
    "#如果檔案不存在,請印出\"檔案不存在\"\n",
    "# 嘗試讀取 names.txt 檔案，將每一行的名字存入 names list，並印出 list\n",
    "# 如果檔案不存在，則印出 \"檔案不存在\"\n",
    "try:\n",
    "    with open(\"names.txt\",encoding=\"utf-8\") as file:  # 開啟 names.txt 檔案，模式為讀取\n",
    "        names = [line.strip() for line in file]  # 逐行讀取並去除換行符號，存入 names list\n",
    "        print(names)  # 印出所有名字的 list\n",
    "except FileNotFoundError:  # 如果檔案不存在\n",
    "    print(\"檔案不存在\")  # 印出錯誤訊息"
   ]
  },
  {
   "cell_type": "code",
   "execution_count": null,
   "id": "bc146ce1",
   "metadata": {},
   "outputs": [],
   "source": [
    "#IO讀取\n",
    "#網路連線\n",
    "\n",
    "file = open(\"names.txt\",encoding=\"utf-8\")\n",
    "content = file.read()\n",
    "file.close()\n",
    "print(type(content))"
   ]
  },
  {
   "cell_type": "code",
   "execution_count": null,
   "id": "e0b07823",
   "metadata": {},
   "outputs": [],
   "source": [
    "#IO讀取\n",
    "#網路連線\n",
    "#with...as語法,會自動關閉\n",
    "with open(\"names.txt\",encoding=\"utf-8\") as file:\n",
    "    content:str = file.read()\n",
    "    names:list = content.split(\"\\n\")\n",
    "\n",
    "for name in names:\n",
    "    print(name)"
   ]
  }
 ],
 "metadata": {
  "kernelspec": {
   "display_name": "base",
   "language": "python",
   "name": "python3"
  },
  "language_info": {
   "name": "python",
   "version": "3.13.2"
  }
 },
 "nbformat": 4,
 "nbformat_minor": 5
}
