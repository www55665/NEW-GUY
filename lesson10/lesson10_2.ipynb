{
 "cells": [
  {
   "cell_type": "code",
   "execution_count": null,
   "id": "29313af4",
   "metadata": {},
   "outputs": [],
   "source": [
    "#建立list\n",
    "empty_list = []\n",
    "type(empty_list)\n",
    "len(empty_list)"
   ]
  },
  {
   "cell_type": "code",
   "execution_count": 2,
   "id": "96c9efb9",
   "metadata": {},
   "outputs": [
    {
     "name": "stdout",
     "output_type": "stream",
     "text": [
      "星期一\n",
      "星期二\n",
      "星期三\n",
      "星期四\n",
      "星期五\n",
      "星期六\n",
      "星期日\n"
     ]
    }
   ],
   "source": [
    "weekdays = ['星期一', '星期二', '星期三', '星期四', '星期五', '星期六', '星期日']\n",
    "weekdays\n",
    "len(weekdays)\n",
    "for day in weekdays:\n",
    "    print(day)\n"
   ]
  },
  {
   "cell_type": "code",
   "execution_count": null,
   "id": "e09f2703",
   "metadata": {},
   "outputs": [],
   "source": [
    "#按照順序,星期一=0,到星期日是6\n",
    "weekdays = ['星期一', '星期二', '星期三', '星期四', '星期五', '星期六', '星期日']\n",
    "weekdays"
   ]
  },
  {
   "cell_type": "code",
   "execution_count": 5,
   "id": "cf141e28",
   "metadata": {},
   "outputs": [
    {
     "data": {
      "text/plain": [
       "'星期日'"
      ]
     },
     "execution_count": 5,
     "metadata": {},
     "output_type": "execute_result"
    }
   ],
   "source": [
    "#取出元素\n",
    "#變數[]->subscript\n",
    "\n",
    "weekdays[0]\n",
    "weekdays[6]"
   ]
  },
  {
   "cell_type": "code",
   "execution_count": 6,
   "id": "cf5a9a1a",
   "metadata": {},
   "outputs": [
    {
     "data": {
      "text/plain": [
       "'星期日'"
      ]
     },
     "execution_count": 6,
     "metadata": {},
     "output_type": "execute_result"
    }
   ],
   "source": [
    "#取出元素\n",
    "#變數[]->subscript\n",
    "\n",
    "weekdays[0]\n",
    "weekdays[6]"
   ]
  },
  {
   "cell_type": "code",
   "execution_count": 12,
   "id": "63c9e11f",
   "metadata": {},
   "outputs": [
    {
     "data": {
      "text/plain": [
       "['星期一', '星期二', '星期三', '星期四', '星期五', '星期六', '星期日']"
      ]
     },
     "execution_count": 12,
     "metadata": {},
     "output_type": "execute_result"
    }
   ],
   "source": [
    "#取出部份元素\n",
    "#變數[前面:後面]\n",
    "#slice->切割\n",
    "\n",
    "weekdays[:]"
   ]
  },
  {
   "cell_type": "code",
   "execution_count": 17,
   "id": "5f3da1b6",
   "metadata": {},
   "outputs": [
    {
     "data": {
      "text/plain": [
       "300"
      ]
     },
     "execution_count": 17,
     "metadata": {},
     "output_type": "execute_result"
    }
   ],
   "source": [
    "#tuple\n",
    "#tuple是不可以新增,修改,刪除元素\n",
    "#暫時的資料\n",
    "('a','A')\n",
    "'a','A'\n",
    "\n",
    "#tuple使用拆解法\n",
    "name, score = 'robert', 300\n",
    "name\n",
    "score"
   ]
  },
  {
   "cell_type": "code",
   "execution_count": null,
   "id": "ac6183c9",
   "metadata": {},
   "outputs": [],
   "source": [
    "#list comprehension -> list的綜合語法\n",
    "#快速建立list\n",
    "#[運算式 for 區塊變數 in 串列資料]\n",
    "\n",
    "[i*5 for i in range(1,10)]\n",
    "\n",
    "#[運算式 for 區塊變數 in 串列資料 if 比較運算]\n",
    "[i*5 for i in range(1,10) if i % 2 == 0]"
   ]
  },
  {
   "cell_type": "code",
   "execution_count": 23,
   "id": "9e43e068",
   "metadata": {},
   "outputs": [
    {
     "data": {
      "text/plain": [
       "[5, 10, 15, 20, 25, 30, 35, 40, 45]"
      ]
     },
     "execution_count": 23,
     "metadata": {},
     "output_type": "execute_result"
    }
   ],
   "source": [
    "[i*5 for i in range(1,10)]"
   ]
  }
 ],
 "metadata": {
  "kernelspec": {
   "display_name": "base",
   "language": "python",
   "name": "python3"
  },
  "language_info": {
   "codemirror_mode": {
    "name": "ipython",
    "version": 3
   },
   "file_extension": ".py",
   "mimetype": "text/x-python",
   "name": "python",
   "nbconvert_exporter": "python",
   "pygments_lexer": "ipython3",
   "version": "3.13.2"
  }
 },
 "nbformat": 4,
 "nbformat_minor": 5
}
