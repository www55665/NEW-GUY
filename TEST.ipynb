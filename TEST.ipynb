{
 "cells": [
  {
   "cell_type": "code",
   "execution_count": 2,
   "id": "d3be31b2",
   "metadata": {},
   "outputs": [
    {
     "name": "stdout",
     "output_type": "stream",
     "text": [
      "發生錯誤： 裝彈數必須小於彈倉數\n"
     ]
    }
   ],
   "source": [
    "# 簡單的 Buckshot Roulette 文字版實作\n",
    "\n",
    "import random\n",
    "import time\n",
    "\n",
    "def make_cylinder(chambers, bullets):\n",
    "    cyl = [0] * chambers\n",
    "    for i in random.sample(range(chambers), bullets):\n",
    "        cyl[i] = 1\n",
    "    return cyl\n",
    "\n",
    "def spin_and_shoot(cylinder):\n",
    "    idx = random.randrange(len(cylinder))\n",
    "    return cylinder[idx], idx\n",
    "\n",
    "def advance_and_shoot(cylinder, position):\n",
    "    result = cylinder[position]\n",
    "    position = (position + 1) % len(cylinder)\n",
    "    return result, position\n",
    "\n",
    "def play_game(player_names, chambers=6, bullets=1, spin_each_time=True, delay=0.8):\n",
    "    if bullets >= chambers:\n",
    "        raise ValueError(\"裝彈數必須小於彈倉數\")\n",
    "    print(f\"開始 Buckshot Roulette：玩家 {player_names}, 彈倉 {chambers}, 裝彈 {bullets}, 每次轉筒={spin_each_time}\")\n",
    "    cylinder = make_cylinder(chambers, bullets)\n",
    "    position = 0  # 當不轉筒時的當前索引\n",
    "    alive = list(player_names)\n",
    "    turn = 0\n",
    "    while len(alive) > 1:\n",
    "        current = alive[turn % len(alive)]\n",
    "        print(f\"\\n{current} 的回合...\")\n",
    "        time.sleep(delay)\n",
    "        if spin_each_time:\n",
    "            shot, idx = spin_and_shoot(cylinder)\n",
    "            print(f\"轉筒 -> 擊發位置 {idx}\")\n",
    "        else:\n",
    "            shot, position = advance_and_shoot(cylinder, position)\n",
    "            print(f\"拉板機 -> 位置 { (position-1) % chambers }\")\n",
    "        if shot:\n",
    "            print(f\"BOOM! {current} 被淘汰。\")\n",
    "            alive.remove(current)\n",
    "            # 重置彈倉（若想彈藥只消耗一次可改為不重置）\n",
    "            cylinder = make_cylinder(chambers, bullets)\n",
    "            position = 0\n",
    "            # 下一位從目前索引維持\n",
    "            turn = turn % len(alive) if alive else 0\n",
    "        else:\n",
    "            print(\"咔擦，平安。\")\n",
    "            turn += 1\n",
    "        time.sleep(delay)\n",
    "    if alive:\n",
    "        print(f\"\\n遊戲結束，勝利者：{alive[0]}\")\n",
    "    else:\n",
    "        print(\"\\n所有人都被淘汰，沒有人勝出。\")\n",
    "\n",
    "if __name__ == \"__main__\":\n",
    "    # 範例互動：直接在終端輸入參數\n",
    "    try:\n",
    "        n = int(input(\"玩家數量：\"))\n",
    "        names = []\n",
    "        for i in range(n):\n",
    "            names.append(input(f\"玩家 {i+1} 名稱：\") or f\"P{i+1}\")\n",
    "        chambers = int(input(\"彈倉孔數 (預設 6)：\") or 6)\n",
    "        bullets = int(input(\"裝彈數 (預設 1)：\") or 1)\n",
    "        spin = input(\"每次轉筒？(y/n，預設 y)：\").lower() != \"n\"\n",
    "        play_game(names, chambers=chambers, bullets=bullets, spin_each_time=spin)\n",
    "    except Exception as e:\n",
    "        print(\"發生錯誤：\", e)"
   ]
  }
 ],
 "metadata": {
  "kernelspec": {
   "display_name": "NEW_GUY",
   "language": "python",
   "name": "python3"
  },
  "language_info": {
   "codemirror_mode": {
    "name": "ipython",
    "version": 3
   },
   "file_extension": ".py",
   "mimetype": "text/x-python",
   "name": "python",
   "nbconvert_exporter": "python",
   "pygments_lexer": "ipython3",
   "version": "3.12.11"
  }
 },
 "nbformat": 4,
 "nbformat_minor": 5
}
