{
 "cells": [
  {
   "cell_type": "code",
   "execution_count": 3,
   "id": "4e76e3c1",
   "metadata": {},
   "outputs": [
    {
     "name": "stdout",
     "output_type": "stream",
     "text": [
      "大於等於60\n"
     ]
    }
   ],
   "source": [
    "scores = 60\n",
    "\n",
    "if scores >= 60:\n",
    "    print(\"大於等於60\")\n",
    "else:\n",
    "    print(\"小於60\")"
   ]
  },
  {
   "cell_type": "code",
   "execution_count": 15,
   "id": "d3887483",
   "metadata": {},
   "outputs": [
    {
     "name": "stdout",
     "output_type": "stream",
     "text": [
      "大於80\n"
     ]
    }
   ],
   "source": [
    "scores = 81\n",
    "\n",
    "if scores >=60:\n",
    "    if scores <=80:\n",
    "        print(\"大於等於60但是小於等於80\")\n",
    "    else:\n",
    "        print(\"大於80\")\n",
    "\n",
    "else:\n",
    "    print(\"小於60\")"
   ]
  },
  {
   "cell_type": "code",
   "execution_count": null,
   "id": "bca3ea88",
   "metadata": {},
   "outputs": [],
   "source": [
    "# 60 <= scores <= 80\n",
    "# 2個條件,邏輯運算子(and)\n",
    "scores = 75\n",
    "if scores >= 60 and scores <=80:\n",
    "    print(\"60 <= scores <= 80\")\n",
    "else:\n",
    "    print(\"scores可能大於80或小於60\")"
   ]
  },
  {
   "cell_type": "code",
   "execution_count": null,
   "id": "63dcb7fb",
   "metadata": {},
   "outputs": [],
   "source": [
    "# 60 <= scores <= 80\n",
    "# 2個條件,邏輯運算子(or)\n",
    "scores = 75\n",
    "if scores < 60 or scores > 80:\n",
    "    print(\"scores可能大於80或小於60\")    \n",
    "else:\n",
    "    print(\"60 <= scores <= 80\")"
   ]
  }
 ],
 "metadata": {
  "kernelspec": {
   "display_name": "base",
   "language": "python",
   "name": "python3"
  },
  "language_info": {
   "codemirror_mode": {
    "name": "ipython",
    "version": 3
   },
   "file_extension": ".py",
   "mimetype": "text/x-python",
   "name": "python",
   "nbconvert_exporter": "python",
   "pygments_lexer": "ipython3",
   "version": "3.13.2"
  }
 },
 "nbformat": 4,
 "nbformat_minor": 5
}
