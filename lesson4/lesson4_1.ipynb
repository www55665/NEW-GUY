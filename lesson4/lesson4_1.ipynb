{
 "cells": [
  {
   "cell_type": "code",
   "execution_count": 10,
   "id": "b926806f",
   "metadata": {},
   "outputs": [
    {
     "name": "stdout",
     "output_type": "stream",
     "text": [
      "三數的總和: 362.6\n"
     ]
    }
   ],
   "source": [
    "value1 = float(input(\"請輸入第1個值\"))\n",
    "value2 = float(input(\"請輸入第2個值\"))\n",
    "value3 = float(input(\"請輸入第3個值\"))\n",
    "\n",
    "total = value1 + value2 + value3\n",
    "print(\"三數的總和:\",total)"
   ]
  },
  {
   "cell_type": "code",
   "execution_count": 14,
   "id": "cf49b1a6",
   "metadata": {},
   "outputs": [
    {
     "name": "stdout",
     "output_type": "stream",
     "text": [
      "n = 50\n"
     ]
    }
   ],
   "source": [
    "n = 25\n",
    "n = n + 25\n",
    "print(\"n =\",n)"
   ]
  },
  {
   "cell_type": "code",
   "execution_count": 19,
   "id": "ee4c750c",
   "metadata": {},
   "outputs": [
    {
     "name": "stdout",
     "output_type": "stream",
     "text": [
      "n= 100\n"
     ]
    }
   ],
   "source": [
    "#複合指定運算子\n",
    "# +=\n",
    "# -=\n",
    "# *=\n",
    "\n",
    "n = 25\n",
    "n += 25\n",
    "n *= 2\n",
    "print(\"n=\", n)"
   ]
  },
  {
   "cell_type": "code",
   "execution_count": 21,
   "id": "8a74f2cf",
   "metadata": {},
   "outputs": [
    {
     "name": "stdout",
     "output_type": "stream",
     "text": [
      "3數的加總是: 300.0\n"
     ]
    }
   ],
   "source": [
    "#複合指定運算子\n",
    "\n",
    "total = 0\n",
    "value = float(input(\"請輸入第1個值:\"))\n",
    "total += value\n",
    "\n",
    "value = float(input(\"請輸入第2個值:\"))\n",
    "total += value\n",
    "\n",
    "value = float(input(\"請輸入第3個值:\"))\n",
    "total += value\n",
    "\n",
    "print(\"3數的加總是:\", total)"
   ]
  },
  {
   "cell_type": "code",
   "execution_count": null,
   "id": "ca890ce9",
   "metadata": {},
   "outputs": [
    {
     "data": {
      "text/plain": [
       "5.0"
      ]
     },
     "execution_count": 25,
     "metadata": {},
     "output_type": "execute_result"
    }
   ],
   "source": [
    "#直角三角形\n",
    "import math\n",
    "a = float(input(\"請輸入a值\"))\n",
    "b = float(input(\"請輸入b值\"))\n",
    "c = (a ** 2 + b ** 2) **0.5"
   ]
  },
  {
   "cell_type": "code",
   "execution_count": null,
   "id": "632238f0",
   "metadata": {},
   "outputs": [],
   "source": [
    "#直角三角形\n",
    "import math\n",
    "a = float(input(\"請輸入a=\"))\n",
    "b = float(input(\"請輸入b=\"))\n",
    "c = math.sqrt(a ** 2 + b ** 2)\n",
    "\n",
    "print(\"a=\", a);\n",
    "print(\"b=\", b);\n",
    "print(\"斜邊為\", c);"
   ]
  },
  {
   "cell_type": "code",
   "execution_count": 28,
   "id": "8da4c962",
   "metadata": {},
   "outputs": [
    {
     "name": "stdout",
     "output_type": "stream",
     "text": [
      "直角三角形的角度是: 53.13010235415599\n"
     ]
    }
   ],
   "source": [
    "import math\n",
    "\n",
    "side = float(input(\"請輸入斜邊:\"))\n",
    "other_side = float(input(\"請輸入對邊:\"))\n",
    "radian = math.asin(other_side / side)\n",
    "degree = math.degrees(radian)\n",
    "\n",
    "print(\"直角三角形的角度是:\", degree)"
   ]
  },
  {
   "cell_type": "code",
   "execution_count": null,
   "id": "f250f50e",
   "metadata": {},
   "outputs": [],
   "source": [
    "import statistics\n",
    "sratistics.stdev()"
   ]
  }
 ],
 "metadata": {
  "kernelspec": {
   "display_name": "base",
   "language": "python",
   "name": "python3"
  },
  "language_info": {
   "codemirror_mode": {
    "name": "ipython",
    "version": 3
   },
   "file_extension": ".py",
   "mimetype": "text/x-python",
   "name": "python",
   "nbconvert_exporter": "python",
   "pygments_lexer": "ipython3",
   "version": "3.13.2"
  }
 },
 "nbformat": 4,
 "nbformat_minor": 5
}
