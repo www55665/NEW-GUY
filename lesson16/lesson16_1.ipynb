{
 "cells": [
  {
   "cell_type": "code",
   "execution_count": 1,
   "id": "6e20fecb",
   "metadata": {},
   "outputs": [
    {
     "data": {
      "text/plain": [
       "0    3000\n",
       "1    5000\n",
       "2    8000\n",
       "dtype: int64"
      ]
     },
     "execution_count": 1,
     "metadata": {},
     "output_type": "execute_result"
    }
   ],
   "source": [
    "#1維的list\n",
    "import pandas as pd\n",
    "sdata = [3000,5000,8000]\n",
    "\n",
    "s1 = pd.Series(sdata)\n",
    "s1"
   ]
  },
  {
   "cell_type": "code",
   "execution_count": 8,
   "id": "81849641",
   "metadata": {},
   "outputs": [
    {
     "data": {
      "text/plain": [
       "台北    3000\n",
       "桃園    5000\n",
       "新竹    8000\n",
       "dtype: int64"
      ]
     },
     "execution_count": 8,
     "metadata": {},
     "output_type": "execute_result"
    }
   ],
   "source": [
    "#1維的list\n",
    "import pandas as pd\n",
    "sdata = {'台北':3000,'桃園':5000,'新竹':8000}\n",
    "\n",
    "s1 = pd.Series(sdata)\n",
    "s1"
   ]
  },
  {
   "cell_type": "code",
   "execution_count": 9,
   "id": "af8a2bfa",
   "metadata": {},
   "outputs": [
    {
     "data": {
      "text/plain": [
       "Index(['台北', '桃園', '新竹'], dtype='object')"
      ]
     },
     "execution_count": 9,
     "metadata": {},
     "output_type": "execute_result"
    }
   ],
   "source": [
    "#1維的list\n",
    "import pandas as pd\n",
    "sdata = {'台北':3000,'桃園':5000,'新竹':8000}\n",
    "\n",
    "s2 = pd.Series(sdata)\n",
    "s2.index"
   ]
  },
  {
   "cell_type": "code",
   "execution_count": 10,
   "id": "673cc854",
   "metadata": {},
   "outputs": [
    {
     "data": {
      "text/plain": [
       "Index(['台北', '桃園', '新竹'], dtype='object')"
      ]
     },
     "execution_count": 10,
     "metadata": {},
     "output_type": "execute_result"
    }
   ],
   "source": [
    "#2維dict\n",
    "sdata = {\n",
    "    '台北': [35000,36000,37000],\n",
    "    '桃園': [71000,72000,73000],\n",
    "    '新竹': [16000,17000,18000]\n",
    "}\n",
    "df1 = pd.DataFrame(sdata)\n",
    "df1.index\n",
    "df1.columns"
   ]
  },
  {
   "cell_type": "code",
   "execution_count": null,
   "id": "355cd641",
   "metadata": {},
   "outputs": [],
   "source": [
    "import pandas as pd\n",
    "\n",
    "df3 = pd.read_csv('交通流量.csv',)"
   ]
  },
  {
   "cell_type": "code",
   "execution_count": null,
   "id": "e5ba25b2",
   "metadata": {},
   "outputs": [],
   "source": []
  },
  {
   "cell_type": "code",
   "execution_count": 11,
   "id": "8abb36a6",
   "metadata": {},
   "outputs": [
    {
     "data": {
      "text/plain": [
       "RangeIndex(start=0, stop=3, step=1)"
      ]
     },
     "execution_count": 11,
     "metadata": {},
     "output_type": "execute_result"
    }
   ],
   "source": [
    "#1維list\n",
    "import pandas as pd\n",
    "sdata = [3000, 5000, 8000]\n",
    "\n",
    "s1 = pd.Series(sdata)\n",
    "s1.index"
   ]
  },
  {
   "cell_type": "code",
   "execution_count": 12,
   "id": "e3ced8cd",
   "metadata": {},
   "outputs": [
    {
     "data": {
      "text/plain": [
       "Index(['台北', '桃園', '台中', '高雄'], dtype='object')"
      ]
     },
     "execution_count": 12,
     "metadata": {},
     "output_type": "execute_result"
    }
   ],
   "source": [
    "#1維dict\n",
    "sdata = {'台北':35000, '桃園':71000, '台中':16000, '高雄':5000}\n",
    "s2 = pd.Series(sdata)\n",
    "s2.index"
   ]
  },
  {
   "cell_type": "code",
   "execution_count": 13,
   "id": "6c10dd38",
   "metadata": {},
   "outputs": [
    {
     "data": {
      "text/plain": [
       "Index(['台北', '桃園', '台中', '高雄'], dtype='object')"
      ]
     },
     "execution_count": 13,
     "metadata": {},
     "output_type": "execute_result"
    }
   ],
   "source": [
    "#2維dict\n",
    "sdata = {\n",
    "    '台北': [35000, 36000, 37000],\n",
    "    '桃園': [71000, 72000, 73000],\n",
    "    '台中': [16000, 17000, 18000],\n",
    "    '高雄': [5000, 6000, 7000]\n",
    "}\n",
    "df1 = pd.DataFrame(sdata)\n",
    "df1.index\n",
    "df1.columns"
   ]
  },
  {
   "cell_type": "code",
   "execution_count": 14,
   "id": "f518580f",
   "metadata": {},
   "outputs": [
    {
     "data": {
      "text/html": [
       "<div>\n",
       "<style scoped>\n",
       "    .dataframe tbody tr th:only-of-type {\n",
       "        vertical-align: middle;\n",
       "    }\n",
       "\n",
       "    .dataframe tbody tr th {\n",
       "        vertical-align: top;\n",
       "    }\n",
       "\n",
       "    .dataframe thead th {\n",
       "        text-align: right;\n",
       "    }\n",
       "</style>\n",
       "<table border=\"1\" class=\"dataframe\">\n",
       "  <thead>\n",
       "    <tr style=\"text-align: right;\">\n",
       "      <th></th>\n",
       "      <th>城市</th>\n",
       "      <th>人口</th>\n",
       "      <th>面積</th>\n",
       "    </tr>\n",
       "  </thead>\n",
       "  <tbody>\n",
       "    <tr>\n",
       "      <th>0</th>\n",
       "      <td>台北</td>\n",
       "      <td>35000</td>\n",
       "      <td>100</td>\n",
       "    </tr>\n",
       "    <tr>\n",
       "      <th>1</th>\n",
       "      <td>桃園</td>\n",
       "      <td>71000</td>\n",
       "      <td>200</td>\n",
       "    </tr>\n",
       "    <tr>\n",
       "      <th>2</th>\n",
       "      <td>台中</td>\n",
       "      <td>16000</td>\n",
       "      <td>150</td>\n",
       "    </tr>\n",
       "    <tr>\n",
       "      <th>3</th>\n",
       "      <td>高雄</td>\n",
       "      <td>5000</td>\n",
       "      <td>80</td>\n",
       "    </tr>\n",
       "  </tbody>\n",
       "</table>\n",
       "</div>"
      ],
      "text/plain": [
       "   城市     人口   面積\n",
       "0  台北  35000  100\n",
       "1  桃園  71000  200\n",
       "2  台中  16000  150\n",
       "3  高雄   5000   80"
      ]
     },
     "execution_count": 14,
     "metadata": {},
     "output_type": "execute_result"
    }
   ],
   "source": [
    "#2維dict\n",
    "sdata = [\n",
    "    {'城市': '台北', '人口': 35000, '面積': 100},\n",
    "    {'城市': '桃園', '人口': 71000, '面積': 200},\n",
    "    {'城市': '台中', '人口': 16000, '面積': 150},\n",
    "    {'城市': '高雄', '人口': 5000, '面積': 80}\n",
    "]\n",
    "df2 = pd.DataFrame(sdata)\n",
    "df2"
   ]
  },
  {
   "cell_type": "code",
   "execution_count": 15,
   "id": "b3b51f05",
   "metadata": {},
   "outputs": [
    {
     "data": {
      "text/html": [
       "<div>\n",
       "<style scoped>\n",
       "    .dataframe tbody tr th:only-of-type {\n",
       "        vertical-align: middle;\n",
       "    }\n",
       "\n",
       "    .dataframe tbody tr th {\n",
       "        vertical-align: top;\n",
       "    }\n",
       "\n",
       "    .dataframe thead th {\n",
       "        text-align: right;\n",
       "    }\n",
       "</style>\n",
       "<table border=\"1\" class=\"dataframe\">\n",
       "  <thead>\n",
       "    <tr style=\"text-align: right;\">\n",
       "      <th></th>\n",
       "      <th>路線方向</th>\n",
       "      <th>路段</th>\n",
       "      <th>交流道</th>\n",
       "      <th>進出口</th>\n",
       "      <th>週六</th>\n",
       "      <th>週日</th>\n",
       "      <th>週2-4</th>\n",
       "    </tr>\n",
       "  </thead>\n",
       "  <tbody>\n",
       "    <tr>\n",
       "      <th>0</th>\n",
       "      <td>國1南向</td>\n",
       "      <td>非主線資料</td>\n",
       "      <td>基隆端</td>\n",
       "      <td>進口</td>\n",
       "      <td>34246</td>\n",
       "      <td>31547</td>\n",
       "      <td>29403</td>\n",
       "    </tr>\n",
       "    <tr>\n",
       "      <th>1</th>\n",
       "      <td>國1南向</td>\n",
       "      <td>非主線資料</td>\n",
       "      <td>基隆</td>\n",
       "      <td>出口</td>\n",
       "      <td>9484</td>\n",
       "      <td>8123</td>\n",
       "      <td>9403</td>\n",
       "    </tr>\n",
       "    <tr>\n",
       "      <th>2</th>\n",
       "      <td>國1南向</td>\n",
       "      <td>非主線資料</td>\n",
       "      <td>基隆</td>\n",
       "      <td>進口1-尚仁路,基隆</td>\n",
       "      <td>2108</td>\n",
       "      <td>1997</td>\n",
       "      <td>2579</td>\n",
       "    </tr>\n",
       "    <tr>\n",
       "      <th>3</th>\n",
       "      <td>國1南向</td>\n",
       "      <td>非主線資料</td>\n",
       "      <td>基隆</td>\n",
       "      <td>進口2-麥金路,金山</td>\n",
       "      <td>6051</td>\n",
       "      <td>5398</td>\n",
       "      <td>5895</td>\n",
       "    </tr>\n",
       "    <tr>\n",
       "      <th>4</th>\n",
       "      <td>國1南向</td>\n",
       "      <td>非主線資料</td>\n",
       "      <td>八堵</td>\n",
       "      <td>進口</td>\n",
       "      <td>10785</td>\n",
       "      <td>11990</td>\n",
       "      <td>9027</td>\n",
       "    </tr>\n",
       "    <tr>\n",
       "      <th>...</th>\n",
       "      <td>...</td>\n",
       "      <td>...</td>\n",
       "      <td>...</td>\n",
       "      <td>...</td>\n",
       "      <td>...</td>\n",
       "      <td>...</td>\n",
       "      <td>...</td>\n",
       "    </tr>\n",
       "    <tr>\n",
       "      <th>751</th>\n",
       "      <td>國10西向</td>\n",
       "      <td>非主線資料</td>\n",
       "      <td>燕巢系統</td>\n",
       "      <td>出口</td>\n",
       "      <td>4612</td>\n",
       "      <td>4647</td>\n",
       "      <td>3906</td>\n",
       "    </tr>\n",
       "    <tr>\n",
       "      <th>752</th>\n",
       "      <td>國10西向</td>\n",
       "      <td>非主線資料</td>\n",
       "      <td>燕巢系統</td>\n",
       "      <td>進口1-國3南</td>\n",
       "      <td>6515</td>\n",
       "      <td>8890</td>\n",
       "      <td>6517</td>\n",
       "    </tr>\n",
       "    <tr>\n",
       "      <th>753</th>\n",
       "      <td>國10西向</td>\n",
       "      <td>非主線資料</td>\n",
       "      <td>燕巢系統</td>\n",
       "      <td>進口2-國3北</td>\n",
       "      <td>10822</td>\n",
       "      <td>13415</td>\n",
       "      <td>11181</td>\n",
       "    </tr>\n",
       "    <tr>\n",
       "      <th>754</th>\n",
       "      <td>國10西向</td>\n",
       "      <td>非主線資料</td>\n",
       "      <td>嶺口</td>\n",
       "      <td>進口</td>\n",
       "      <td>5196</td>\n",
       "      <td>5680</td>\n",
       "      <td>4242</td>\n",
       "    </tr>\n",
       "    <tr>\n",
       "      <th>755</th>\n",
       "      <td>國10西向</td>\n",
       "      <td>非主線資料</td>\n",
       "      <td>旗山端</td>\n",
       "      <td>進口</td>\n",
       "      <td>12946</td>\n",
       "      <td>17106</td>\n",
       "      <td>10412</td>\n",
       "    </tr>\n",
       "  </tbody>\n",
       "</table>\n",
       "<p>756 rows × 7 columns</p>\n",
       "</div>"
      ],
      "text/plain": [
       "      路線方向     路段   交流道         進出口     週六     週日   週2-4\n",
       "0     國1南向  非主線資料   基隆端          進口  34246  31547  29403\n",
       "1     國1南向  非主線資料    基隆          出口   9484   8123   9403\n",
       "2     國1南向  非主線資料    基隆  進口1-尚仁路,基隆   2108   1997   2579\n",
       "3     國1南向  非主線資料    基隆  進口2-麥金路,金山   6051   5398   5895\n",
       "4     國1南向  非主線資料    八堵          進口  10785  11990   9027\n",
       "..     ...    ...   ...         ...    ...    ...    ...\n",
       "751  國10西向  非主線資料  燕巢系統          出口   4612   4647   3906\n",
       "752  國10西向  非主線資料  燕巢系統     進口1-國3南   6515   8890   6517\n",
       "753  國10西向  非主線資料  燕巢系統     進口2-國3北  10822  13415  11181\n",
       "754  國10西向  非主線資料    嶺口          進口   5196   5680   4242\n",
       "755  國10西向  非主線資料   旗山端          進口  12946  17106  10412\n",
       "\n",
       "[756 rows x 7 columns]"
      ]
     },
     "execution_count": 15,
     "metadata": {},
     "output_type": "execute_result"
    }
   ],
   "source": [
    "import pandas as pd\n",
    "\n",
    "df3 = pd.read_csv('交通流量.csv', encoding='utf-8')\n",
    "df3"
   ]
  },
  {
   "cell_type": "code",
   "execution_count": 19,
   "id": "2497b7e9",
   "metadata": {},
   "outputs": [
    {
     "data": {
      "text/plain": [
       "[['國1南向', '非主線資料', '基隆端', '進口', '34246', '31547', '29403'],\n",
       " ['國1南向', '非主線資料', '基隆', '出口', '9484', '8123', '9403'],\n",
       " ['國1南向', '非主線資料', '基隆', '進口1-尚仁路,基隆', '2108', '1997', '2579'],\n",
       " ['國1南向', '非主線資料', '基隆', '進口2-麥金路,金山', '6051', '5398', '5895'],\n",
       " ['國1南向', '非主線資料', '八堵', '進口', '10785', '11990', '9027']]"
      ]
     },
     "execution_count": 19,
     "metadata": {},
     "output_type": "execute_result"
    }
   ],
   "source": [
    "\n",
    "df3.values.tolist()[:5]"
   ]
  },
  {
   "cell_type": "code",
   "execution_count": 20,
   "id": "6b7a13af",
   "metadata": {},
   "outputs": [
    {
     "data": {
      "text/plain": [
       "[['國1南向', '非主線資料', '基隆端', '進口', '34246', '31547', '29403'],\n",
       " ['國1南向', '非主線資料', '基隆', '出口', '9484', '8123', '9403'],\n",
       " ['國1南向', '非主線資料', '基隆', '進口1-尚仁路,基隆', '2108', '1997', '2579'],\n",
       " ['國1南向', '非主線資料', '基隆', '進口2-麥金路,金山', '6051', '5398', '5895'],\n",
       " ['國1南向', '非主線資料', '八堵', '進口', '10785', '11990', '9027']]"
      ]
     },
     "execution_count": 20,
     "metadata": {},
     "output_type": "execute_result"
    }
   ],
   "source": [
    "\n",
    "df3.to_numpy().tolist()[:5]"
   ]
  }
 ],
 "metadata": {
  "kernelspec": {
   "display_name": "NEW_GUY",
   "language": "python",
   "name": "python3"
  },
  "language_info": {
   "codemirror_mode": {
    "name": "ipython",
    "version": 3
   },
   "file_extension": ".py",
   "mimetype": "text/x-python",
   "name": "python",
   "nbconvert_exporter": "python",
   "pygments_lexer": "ipython3",
   "version": "3.12.11"
  }
 },
 "nbformat": 4,
 "nbformat_minor": 5
}
